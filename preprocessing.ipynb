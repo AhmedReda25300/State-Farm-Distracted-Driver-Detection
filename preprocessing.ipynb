{
 "cells": [
  {
   "cell_type": "code",
   "execution_count": 1,
   "metadata": {},
   "outputs": [],
   "source": [
    "from PIL import Image\n",
    "import imagehash\n",
    "import os\n"
   ]
  },
  {
   "cell_type": "code",
   "execution_count": null,
   "metadata": {},
   "outputs": [],
   "source": [
    "def remove_similar_images(directory, threshold):\n",
    "    hash_dict = {}\n",
    "    removed_count = 0\n",
    "\n",
    "    def calculate_hash(image_path):\n",
    "        with Image.open(image_path) as img:\n",
    "            hash_value = imagehash.average_hash(img)\n",
    "        return hash_value\n",
    "\n",
    "    for filename in os.listdir(directory):\n",
    "        if filename.endswith('.jpg') or filename.endswith('.png'):\n",
    "            image_path = os.path.join(directory, filename)\n",
    "            hash_value = calculate_hash(image_path)\n",
    "\n",
    "            similar = False\n",
    "            for existing_hash_value in hash_dict.keys():\n",
    "                distance = hash_value - existing_hash_value\n",
    "                if distance < threshold:\n",
    "                    similar = True\n",
    "                    break\n",
    "\n",
    "            if similar:\n",
    "                os.remove(image_path)\n",
    "                removed_count += 1\n",
    "            else:\n",
    "                hash_dict[hash_value] = image_path\n",
    "\n",
    "    return removed_count\n"
   ]
  },
  {
   "cell_type": "code",
   "execution_count": 19,
   "metadata": {},
   "outputs": [
    {
     "name": "stdout",
     "output_type": "stream",
     "text": [
      "Total removed images: 2363\n",
      "Total removed images: 2184\n",
      "Total removed images: 2236\n",
      "Total removed images: 2232\n",
      "Total removed images: 2179\n",
      "Total removed images: 2178\n",
      "Total removed images: 2237\n",
      "Total removed images: 1866\n",
      "Total removed images: 1759\n",
      "Total removed images: 2025\n"
     ]
    }
   ],
   "source": [
    "\n",
    "for i in range(10):\n",
    "    folder_path = r\"C:\\Users\\DELL\\Desktop\\ITI\\DL\\dl_project\\imgs\\train\\c{}\".format(i)\n",
    "    threshold = 5\n",
    "    removed_count = remove_similar_images(folder_path, threshold)\n",
    "    print(f\"Total removed images: {removed_count}\")\n"
   ]
  }
 ],
 "metadata": {
  "kernelspec": {
   "display_name": "base",
   "language": "python",
   "name": "python3"
  },
  "language_info": {
   "codemirror_mode": {
    "name": "ipython",
    "version": 3
   },
   "file_extension": ".py",
   "mimetype": "text/x-python",
   "name": "python",
   "nbconvert_exporter": "python",
   "pygments_lexer": "ipython3",
   "version": "3.11.5"
  }
 },
 "nbformat": 4,
 "nbformat_minor": 2
}
